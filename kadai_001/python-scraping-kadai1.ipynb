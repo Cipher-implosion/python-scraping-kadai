{
 "cells": [
  {
   "cell_type": "code",
   "execution_count": 170,
   "id": "de01a0ec-fd7e-4d9e-b27d-ec5615ee33a2",
   "metadata": {},
   "outputs": [
    {
     "name": "stdout",
     "output_type": "stream",
     "text": [
      "　◇２０日　Ｊ１リーグ第１１節　名古屋２―１広島（豊田スタジアム）\n",
      "\n",
      "　６位の広島は２０位の名古屋にアウェーで競り負け、痛恨の２連敗で９位に転落した。名古屋に２点を先行され、後半３６分にＭＦ菅大輝のゴールで１点を返したが届かなかった。\n",
      "\n",
      "◆名古屋グランパス・マテウスの『悪魔の左足』豪快ミドルで先制！【動画】\n",
      "\n",
      "　ミヒャエル・スキッベ監督（５９）は試合後の記者会見で、「イメージしていた以上にひどい審判のパフォーマンスだった」「サッカーがどんどんレベルアップしていくのに対して、審判のレベルはついていけていない」などと強烈な批判を展開した。\n",
      "\n",
      "　ドイツ人指揮官は後半２５分にＦＷ前田直輝（３０）が名古屋ＦＷ永井謙佑（３６）のアフターファウルで左足首を削られ、交代を余儀なくされたシーンを挙げ、「（主審の）岡部（拓人）さんは３メートル前で見ていたファウル、確実にレッドカードを出さなければならないファウルを取らなかった。ＶＡＲの飯田（淳平）さんも１０回以上、見ていないとおかしいシーンだったが、それでもそういう状況になった」と厳しく指摘した。\n",
      "\n",
      "　岡部主審は永井のファウルを取り、イエローカードを提示している。\n",
      "\n",
      "　その上で、スキッベ監督は「フィールドの上で正確な判断をする審判のところは、日本のサッカーは後れを取っている。前田はあのファウルによって、何週間、何カ月と戻ってこられないかもしれない。そんな中で、審判はまた来週できるのはフェアだと感じない。そこは納得いかない部分ではある。前田はボールをプレーして、ボールは離れていた。あのスライディングにレッドカードを出せない、そういう笛の吹き方には本当に納得がいかない」とまくし立てた。\n",
      "\n",
      "　さらに続けて、スキッベ監督は「サッカーはどんどん速く、インテンシブになっていく。サッカーがどんどんレベルアップしていくのに対して、審判のレベルは付いていけていないと感じている。正しい判断をしていくことをもっと求めていかないといけない。前田だけでなく、他の選手も１対１の状況からけがをしている選手がたくさんいる。どんどんいい選手がいなくなっていく。幸い、うちのユースの選手がいいので、ユースの選手でリーグを戦うことになるでしょう」と、皮肉まじりに判定への不満をぶちまけ続けた。\n"
     ]
    }
   ],
   "source": [
    "import requests\n",
    "from bs4 import BeautifulSoup\n",
    "\n",
    "url = 'https://news.yahoo.co.jp/articles/583b5ab98d1f1f13b0e45c3bcb55a853c4a7f9f1'\n",
    "response = requests.get(url)\n",
    "soup = BeautifulSoup(response.text, 'html.parser')\n",
    "\n",
    "article_body = soup.select_one('#uamods > div.article_body.highLightSearchTarget > div > p')\n",
    "\n",
    "print(article_body.text)\n",
    "\n",
    "\n"
   ]
  },
  {
   "cell_type": "code",
   "execution_count": null,
   "id": "af9be399-cffb-4a66-a15f-355077ddc02c",
   "metadata": {},
   "outputs": [],
   "source": []
  }
 ],
 "metadata": {
  "kernelspec": {
   "display_name": "Python [conda env:base] *",
   "language": "python",
   "name": "conda-base-py"
  },
  "language_info": {
   "codemirror_mode": {
    "name": "ipython",
    "version": 3
   },
   "file_extension": ".py",
   "mimetype": "text/x-python",
   "name": "python",
   "nbconvert_exporter": "python",
   "pygments_lexer": "ipython3",
   "version": "3.12.7"
  }
 },
 "nbformat": 4,
 "nbformat_minor": 5
}
